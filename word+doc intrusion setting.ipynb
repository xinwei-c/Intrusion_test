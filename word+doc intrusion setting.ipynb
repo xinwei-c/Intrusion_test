{
 "cells": [
  {
   "cell_type": "code",
   "execution_count": 24,
   "id": "ffbb1d43",
   "metadata": {},
   "outputs": [],
   "source": [
    "#package \n",
    "import pandas as pd\n",
    "import random"
   ]
  },
  {
   "cell_type": "code",
   "execution_count": 25,
   "id": "ca912573",
   "metadata": {},
   "outputs": [],
   "source": [
    "def generate_word_intrusion(df, num_real_words=4):\n",
    "  \n",
    "    all_intrusion_sets = []\n",
    "    for index, topic_row in df.iterrows():\n",
    "        current_topic_id = topic_row[\"Topic_ID\"]\n",
    "        current_topic_name = topic_row[\"Topic_Name\"]\n",
    "        top_words_from_current_topic = []\n",
    "        word_score_pairs = topic_row[\"Top_Words\"].split(', ')\n",
    "        for i in range(min(num_real_words, len(word_score_pairs))):\n",
    "            word_with_score = word_score_pairs[i]\n",
    "            just_the_word = word_with_score.split('(')[0]\n",
    "            top_words_from_current_topic.append(just_the_word)\n",
    "        other_topics_df = df[df['Topic_ID'] != current_topic_id]\n",
    "        if other_topics_df.empty:\n",
    "            print(f\"No other topics found to select an intruder for Topic ID: {current_topic_id}. Skipping.\")\n",
    "            continue \n",
    "        random_other_topic = random.choice(other_topics_df[\"Top_Words\"].tolist())\n",
    "        intruder_word_with_score = random.choice(random_other_topic.split(', '))\n",
    "        intruder_word = intruder_word_with_score.split('(')[0]\n",
    "        all_words_for_set = top_words_from_current_topic + [intruder_word]\n",
    "        random.shuffle(all_words_for_set)\n",
    "        intrusion_set_data = {\n",
    "            'Topic_ID': current_topic_id,\n",
    "            'Topic_Name': current_topic_name,\n",
    "            'Words_with_Intruder_Shuffled': all_words_for_set,\n",
    "            'Intruder': intruder_word\n",
    "        }\n",
    "        all_intrusion_sets.append(intrusion_set_data)\n",
    "    word_intrusion = pd.DataFrame(all_intrusion_sets)\n",
    "    return word_intrusion"
   ]
  },
  {
   "cell_type": "code",
   "execution_count": 28,
   "id": "5d0a87eb",
   "metadata": {},
   "outputs": [],
   "source": [
    "#doc_intrusion\n",
    "def generate_document_intrusion(document_probabilities_df, topic_statistics_df, num_relevant_documents=4):\n",
    "    \n",
    "    all_intrusion_sets = []\n",
    "\n",
    "    topic_probability_columns = [col for col in document_probabilities_df.columns if col.startswith(\"Topic_\")]\n",
    "\n",
    "    for topic_column_name in topic_probability_columns:\n",
    "        current_topic_id = int(topic_column_name.split('_')[1])\n",
    "        current_topic_name = topic_statistics_df.loc[\n",
    "            topic_statistics_df[\"Topic_ID\"] == current_topic_id, \"Topic_Name\"].values[0]\n",
    "        most_relevant_documents = document_probabilities_df.nlargest(\n",
    "            num_relevant_documents, topic_column_name\n",
    "        )[[\"Document\", topic_column_name]]\n",
    "        intruder_candidates_pool = document_probabilities_df.nsmallest(20, topic_column_name  )\n",
    "        chosen_intruder_document = intruder_candidates_pool.sample(1)[\"Document\"].values[0]\n",
    "        list_of_relevant_documents = most_relevant_documents[\"Document\"].tolist()\n",
    "        all_documents_for_set = list_of_relevant_documents + [chosen_intruder_document]\n",
    "        random.shuffle(all_documents_for_set)\n",
    "        intrusion_set_data = {\n",
    "            'Topic_ID': current_topic_id,\n",
    "            'Topic_Name': current_topic_name,\n",
    "            'Documents_with_Intruder_Shuffled': all_documents_for_set,\n",
    "            'Intruder': chosen_intruder_document\n",
    "        }\n",
    "        all_intrusion_sets.append(intrusion_set_data)\n",
    "\n",
    "    doc_intrusion = pd.DataFrame(all_intrusion_sets)\n",
    "    return doc_intrusion"
   ]
  },
  {
   "cell_type": "code",
   "execution_count": 29,
   "id": "4bbbd74b",
   "metadata": {},
   "outputs": [],
   "source": [
    "topics_df = pd.read_csv(\"csv/aita_topics_stats.csv\")  \n",
    "topic_probs_df = pd.read_csv(\"csv/aita_full_post_topic_probabilities.csv\") "
   ]
  },
  {
   "cell_type": "code",
   "execution_count": 30,
   "id": "0eefc0b2",
   "metadata": {},
   "outputs": [],
   "source": [
    "word_intrusion_df = generate_word_intrusion(topics_df)\n",
    "doc_intrusion_df = generate_document_intrusion(topic_probs_df, topics_df)"
   ]
  },
  {
   "cell_type": "code",
   "execution_count": null,
   "id": "47591d21",
   "metadata": {},
   "outputs": [],
   "source": []
  }
 ],
 "metadata": {
  "kernelspec": {
   "display_name": "Python 3 (ipykernel)",
   "language": "python",
   "name": "python3"
  },
  "language_info": {
   "codemirror_mode": {
    "name": "ipython",
    "version": 3
   },
   "file_extension": ".py",
   "mimetype": "text/x-python",
   "name": "python",
   "nbconvert_exporter": "python",
   "pygments_lexer": "ipython3",
   "version": "3.11.5"
  }
 },
 "nbformat": 4,
 "nbformat_minor": 5
}
